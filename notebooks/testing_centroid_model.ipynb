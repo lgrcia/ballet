{
 "cells": [
  {
   "cell_type": "markdown",
   "id": "yellow-showcase",
   "metadata": {},
   "source": [
    "# Testing centroid model"
   ]
  },
  {
   "cell_type": "code",
   "execution_count": 10,
   "id": "sapphire-registration",
   "metadata": {},
   "outputs": [],
   "source": [
    "%config IPCompleter.use_jedi = False\n",
    "import tensorflow as tf\n",
    "from tensorflow.keras import datasets, layers, models\n",
    "import numpy as np\n",
    "from moffat import Moffat2D\n",
    "import matplotlib.pyplot as plt"
   ]
  },
  {
   "cell_type": "code",
   "execution_count": 71,
   "id": "charged-purple",
   "metadata": {},
   "outputs": [],
   "source": [
    "# Loading model\n",
    "model = tf.keras.models.load_model(\"/Users/lionelgarcia/Downloads/newer_model2603211830_sigm2\", compile=False)"
   ]
  },
  {
   "cell_type": "code",
   "execution_count": 95,
   "id": "wound-suspension",
   "metadata": {},
   "outputs": [],
   "source": [
    "# Generating samples\n",
    "moffats = Moffat2D(15)\n",
    "images, labels = moffats.random_model_label(N=5000)"
   ]
  },
  {
   "cell_type": "code",
   "execution_count": 96,
   "id": "frank-temperature",
   "metadata": {},
   "outputs": [],
   "source": [
    "predictions = model(np.expand_dims(images, -1), training=False).numpy()"
   ]
  },
  {
   "cell_type": "code",
   "execution_count": 125,
   "id": "powered-sherman",
   "metadata": {},
   "outputs": [
    {
     "name": "stdout",
     "output_type": "stream",
     "text": [
      "RMSE: 1.681e-02\n",
      "Robustness: 99.98%\n"
     ]
    },
    {
     "data": {
      "image/png": "[encoded data removed]",
      "text/plain": [
       "<Figure size 432x288 with 1 Axes>"
      ]
     },
     "metadata": {
      "needs_background": "light"
     },
     "output_type": "display_data"
    }
   ],
   "source": [
    "# plot\n",
    "errors = labels - predictions\n",
    "bins = np.linspace(-0.1, 0.1, 80)\n",
    "histogram, _ = np.histogram(errors[:, 0], bins=bins)\n",
    "plt.step(bins[0:-1], histogram, c=\"k\")\n",
    "\n",
    "# performances (<!> different distributions than in prose paper)\n",
    "lim = 0.1\n",
    "mask = np.max(np.abs(errors), 1) < 0.1\n",
    "_errors = errors[mask]\n",
    "print(f\"RMSE: {np.sqrt(np.mean(_errors**2)):.3e}\\nRobustness: {(1-(np.sum(~mask)/len(labels)))*100:.2f}%\")"
   ]
  },
  {
   "cell_type": "markdown",
   "id": "declared-present",
   "metadata": {},
   "source": [
    "## Comparing centroid_2dg"
   ]
  },
  {
   "cell_type": "code",
   "execution_count": 110,
   "id": "alive-registration",
   "metadata": {},
   "outputs": [],
   "source": [
    "from photutils import centroids\n",
    "from tqdm import tqdm"
   ]
  },
  {
   "cell_type": "code",
   "execution_count": 117,
   "id": "successful-greece",
   "metadata": {},
   "outputs": [
    {
     "name": "stderr",
     "output_type": "stream",
     "text": [
      "  0%|          | 18/5000 [00:00<04:02, 20.54it/s]/Users/lionelgarcia/Code/envs/prose/lib/python3.6/site-packages/astropy/modeling/fitting.py:894: AstropyUserWarning: The fit may be unsuccessful; check fit_info['message'] for more information.\n",
      "  AstropyUserWarning)\n",
      "100%|██████████| 5000/5000 [04:09<00:00, 20.02it/s]\n"
     ]
    }
   ],
   "source": [
    "predictions2dg = np.zeros_like(predictions)\n",
    "\n",
    "for i, image in enumerate(tqdm(np.squeeze(images))):\n",
    "    predictions2dg[i, :] = centroids.centroid_2dg(image)[::-1]"
   ]
  },
  {
   "cell_type": "code",
   "execution_count": 124,
   "id": "contrary-jones",
   "metadata": {},
   "outputs": [
    {
     "name": "stdout",
     "output_type": "stream",
     "text": [
      "\t\tballet\t\tcentroid_2dg\n",
      "RMSE:\t\t1.681e-02\t1.837e-02\n",
      "Robustness:\t99.98%\t\t99.62%\n"
     ]
    },
    {
     "data": {
      "image/png": "[encoded data removed]",
      "text/plain": [
       "<Figure size 432x288 with 1 Axes>"
      ]
     },
     "metadata": {
      "needs_background": "light"
     },
     "output_type": "display_data"
    }
   ],
   "source": [
    "# plot\n",
    "errors2 = labels - predictions2dg\n",
    "histogram2, _ = np.histogram(errors[:, 0], bins=bins)\n",
    "plt.step(bins[0:-1], histogram, c=\"k\", label=\"ballet\")\n",
    "plt.step(bins[0:-1] + 0.1, histogram2, c=\"C3\", label=\"centroid_2dg\")\n",
    "\n",
    "# errors\n",
    "mask2 = np.max(np.abs(errors2), 1) < 0.1\n",
    "_errors2 = errors2[mask2]\n",
    "print(f\"\"\"\\t\\tballet\\t\\tcentroid_2dg\n",
    "RMSE:\\t\\t{np.sqrt(np.mean(_errors**2)):.3e}\\t{np.sqrt(np.mean(_errors2**2)):.3e}\n",
    "Robustness:\\t{(1-(np.sum(~mask)/len(labels)))*100:.2f}%\\t\\t{(1-(np.sum(~mask2)/len(labels)))*100:.2f}%\"\"\")"
   ]
  }
 ],
 "metadata": {
  "kernelspec": {
   "display_name": "Python 3",
   "language": "python",
   "name": "python3"
  },
  "language_info": {
   "codemirror_mode": {
    "name": "ipython",
    "version": 3
   },
   "file_extension": ".py",
   "mimetype": "text/x-python",
   "name": "python",
   "nbconvert_exporter": "python",
   "pygments_lexer": "ipython3",
   "version": "3.6.5"
  }
 },
 "nbformat": 4,
 "nbformat_minor": 5
}
