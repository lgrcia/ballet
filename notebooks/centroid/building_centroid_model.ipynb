{
 "cells": [
  {
   "cell_type": "markdown",
   "id": "retired-volleyball",
   "metadata": {},
   "source": [
    "# Building centroid model"
   ]
  },
  {
   "cell_type": "code",
   "execution_count": null,
   "id": "institutional-syndicate",
   "metadata": {},
   "outputs": [],
   "source": [
    "%config IPCompleter.use_jedi = False\n",
    "import tensorflow as tf\n",
    "from tensorflow.keras import datasets, layers, models\n",
    "import numpy as np\n",
    "from moffat import Moffat2D"
   ]
  },
  {
   "cell_type": "markdown",
   "id": "matched-viewer",
   "metadata": {},
   "source": [
    "## The model\n",
    "\n",
    "![](../../docs/architecture.png)"
   ]
  },
  {
   "cell_type": "code",
   "execution_count": null,
   "id": "alternative-pattern",
   "metadata": {},
   "outputs": [],
   "source": [
    "size = 15\n",
    "\n",
    "n = Moffat2D(size)\n",
    "\n",
    "model = models.Sequential([\n",
    "    layers.Conv2D(64, (3, 3), activation='relu', input_shape=(size, size, 1), use_bias=True, padding=\"same\"),\n",
    "    layers.MaxPooling2D((2, 2), padding=\"same\"),\n",
    "    layers.Conv2D(128, (3, 3), activation='relu', use_bias=True, padding=\"same\"),\n",
    "    layers.MaxPooling2D((2, 2), padding=\"same\"),\n",
    "    layers.Conv2D(256, (3, 3), activation='relu', use_bias=True, padding=\"same\"),\n",
    "    layers.Flatten(),\n",
    "    layers.Dense(2048, activation=\"sigmoid\", use_bias=True),\n",
    "    layers.Dense(512, activation=\"sigmoid\", use_bias=True),\n",
    "    layers.Dense(2),\n",
    "])"
   ]
  },
  {
   "cell_type": "markdown",
   "id": "mounted-signature",
   "metadata": {},
   "source": [
    "### Training strategy"
   ]
  },
  {
   "cell_type": "code",
   "execution_count": null,
   "id": "driving-combination",
   "metadata": {},
   "outputs": [],
   "source": [
    "lr_schedule = tf.keras.optimizers.schedules.InverseTimeDecay(\n",
    "  0.001,\n",
    "  decay_steps=20,\n",
    "  decay_rate=1,\n",
    "  staircase=False)\n",
    "\n",
    "model.compile(\n",
    "    optimizer=tf.keras.optimizers.Adam(lr_schedule), \n",
    "    loss=tf.keras.losses.Huber(), \n",
    "    metrics=[tf.keras.metrics.RootMeanSquaredError()])"
   ]
  },
  {
   "cell_type": "code",
   "execution_count": null,
   "id": "rubber-words",
   "metadata": {},
   "outputs": [],
   "source": [
    "# Training\n",
    "\n",
    "train = 2000\n",
    "test = 10000\n",
    "epochs = 80\n",
    "\n",
    "train_dataset = n.random_model_label(train)\n",
    "test_dataset = n.random_model_label(test)\n",
    "train_dataset = tf.data.Dataset.from_tensor_slices(train_dataset)\n",
    "test_dataset = tf.data.Dataset.from_tensor_slices(test_dataset)\n",
    "\n",
    "BATCH_SIZE = 100\n",
    "SHUFFLE_BUFFER_SIZE = 100\n",
    "\n",
    "train_dataset = train_dataset.shuffle(SHUFFLE_BUFFER_SIZE).batch(BATCH_SIZE)\n",
    "test_dataset = test_dataset.batch(BATCH_SIZE)\n",
    "\n",
    "model.fit(train_dataset, epochs=epochs, validation_data=test_dataset, )"
   ]
  },
  {
   "cell_type": "code",
   "execution_count": null,
   "id": "healthy-anthropology",
   "metadata": {},
   "outputs": [],
   "source": [
    "# Saving\n",
    "model.save()"
   ]
  }
 ],
 "metadata": {
  "kernelspec": {
   "display_name": "Python 3",
   "language": "python",
   "name": "python3"
  },
  "language_info": {
   "codemirror_mode": {
    "name": "ipython",
    "version": 3
   },
   "file_extension": ".py",
   "mimetype": "text/x-python",
   "name": "python",
   "nbconvert_exporter": "python",
   "pygments_lexer": "ipython3",
   "version": "3.6.5"
  }
 },
 "nbformat": 4,
 "nbformat_minor": 5
}
